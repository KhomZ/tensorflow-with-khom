{
 "cells": [
  {
   "cell_type": "markdown",
   "id": "05e7928c",
   "metadata": {},
   "source": [
    "This is day3 \n",
    "Here we are going to learn Convolution Neural Networks-Deep Learning Basics with Python, TensorFlow and Keras\n",
    "\n",
    "with Khom"
   ]
  },
  {
   "cell_type": "code",
   "execution_count": null,
   "id": "f82d0417",
   "metadata": {},
   "outputs": [],
   "source": [
    "import tensorflow as tf\n",
    "from tensorflow.keras.models import Sequential\n",
    "from tensorflow.keras.layers import Dense, Dropout, Activation, Flatten, Conv2D, MaxPooling2D\n",
    "import pickle"
   ]
  }
 ],
 "metadata": {
  "kernelspec": {
   "display_name": "Python 3 (ipykernel)",
   "language": "python",
   "name": "python3"
  },
  "language_info": {
   "codemirror_mode": {
    "name": "ipython",
    "version": 3
   },
   "file_extension": ".py",
   "mimetype": "text/x-python",
   "name": "python",
   "nbconvert_exporter": "python",
   "pygments_lexer": "ipython3",
   "version": "3.9.7"
  }
 },
 "nbformat": 4,
 "nbformat_minor": 5
}
