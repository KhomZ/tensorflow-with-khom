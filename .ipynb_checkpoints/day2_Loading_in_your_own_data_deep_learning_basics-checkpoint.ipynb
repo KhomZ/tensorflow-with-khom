{
 "cells": [
  {
   "cell_type": "markdown",
   "metadata": {
    "id": "OUaXjSE-RE2b"
   },
   "source": [
    "# Day 2\n",
    "\n",
    "@KhomZ\n",
    "\n",
    "Loading in your own data - Deep Learning basics with Python, TensorFlow and Keras with Khom\n",
    "@markdown\n",
    "\n",
    "# use microsoft Kaggle Cats and Dogs Dataset for this program\n",
    "[download link:](https://www.microsoft.com/en-us/download/details.aspx?id=54765)"
   ]
  },
  {
   "cell_type": "markdown",
   "metadata": {
    "id": "GokNSlUHAUtG"
   },
   "source": [
    "First, we need a dataset. Let's grab the [Dogs vs Cats dataset from Microsoft](https://www.microsoft.com/en-us/download/details.aspx?id=54765).\n",
    "\n",
    "Now that you have the dataset, it's currently compressed. Unzip the dataset, and you should find that it creates a directory called ```PetImages```. Inside of that, we have Cat and Dog directories, which are then filled with images of cats and dogs. Easy enough! Let's play with this dataset! First, we need to understand how we will convert this dataset to training data. We have a few issues right out of the gate. The largest issue is not all of these images are the same size. While we can eventually have variable-sized layers in neural networks, this is not the most basic thing to achieve. We're going to want to reshape things for now so every image has the same dimensions. Next, we may or may not want to keep color. To begin, install matplotlib if you don't already have it `pip install matplotlib`, as well as opencv `pip install opencv-python`.\n",
    "\n"
   ]
  },
  {
   "cell_type": "code",
   "execution_count": null,
   "metadata": {
    "id": "WuaxNd53Pkba"
   },
   "outputs": [],
   "source": [
    "import numpy as np\n",
    "import matplotlib.pyplot as plt\n",
    "import os\n",
    "import cv2\n"
   ]
  },
  {
   "cell_type": "code",
   "execution_count": null,
   "metadata": {
    "id": "G5QZzHMjEKs1"
   },
   "outputs": [],
   "source": [
    "DATADIR = \"\""
   ]
  },
  {
   "cell_type": "markdown",
   "metadata": {
    "id": "dH9E1NiqEI6f"
   },
   "source": [
    "Oh look, a dog!"
   ]
  },
  {
   "cell_type": "code",
   "execution_count": null,
   "metadata": {
    "id": "PJv1MSv-ERf4"
   },
   "outputs": [],
   "source": []
  },
  {
   "cell_type": "markdown",
   "metadata": {
    "id": "7n01_MmWETIW"
   },
   "source": [
    "And it's shape:"
   ]
  },
  {
   "cell_type": "code",
   "execution_count": null,
   "metadata": {
    "id": "MUw26WrYEWGx"
   },
   "outputs": [],
   "source": []
  },
  {
   "cell_type": "markdown",
   "metadata": {
    "id": "3EijNe1gEYUJ"
   },
   "source": [
    "So that;s a 375 tall, 500 wide, and 3-channel image. 3-channel is because it's RGB (color). We definitely don't want the images that big, but also various images are different shapes, and this is also a problem."
   ]
  },
  {
   "cell_type": "code",
   "execution_count": null,
   "metadata": {
    "id": "5prCSBhOEvZQ"
   },
   "outputs": [],
   "source": []
  },
  {
   "cell_type": "markdown",
   "metadata": {
    "id": "thVP5e0XEwqn"
   },
   "source": [
    "Yeah, hmm, that's a bit blurry though. Let's go with let's say 100x100?"
   ]
  },
  {
   "cell_type": "code",
   "execution_count": null,
   "metadata": {
    "id": "3MBoA53oE6Ua"
   },
   "outputs": [],
   "source": []
  },
  {
   "cell_type": "markdown",
   "metadata": {
    "id": "UEiaYEXCE8fe"
   },
   "source": [
    "Now, Better. Let's try that. Next, we're going to want to create training data and all that, but, first, we should set aside some images for final testing. I am going to just manually create a directory called Testing and then create 2 directories inside of there, one for Dog and one for Cat. From here, I am just going to move the first 15 images from both Dog and Cat into the training versions. Make sure you move them, not copy. We will use this for our final tests."
   ]
  },
  {
   "cell_type": "markdown",
   "metadata": {
    "id": "G0sKomZXFr5I"
   },
   "source": [
    "Now, we want to begin building our training data!"
   ]
  },
  {
   "cell_type": "code",
   "execution_count": null,
   "metadata": {
    "id": "D1-RXsOvFyCv"
   },
   "outputs": [],
   "source": []
  },
  {
   "cell_type": "markdown",
   "metadata": {
    "id": "-JVFWKX5F1ie"
   },
   "source": [
    "Great, we have almost 25K samples! That's awesome."
   ]
  },
  {
   "cell_type": "markdown",
   "metadata": {
    "id": "nNNsHGFXF8mF"
   },
   "source": [
    "One thing we want to do is make sure our data is balanced. In the case of this dataset, I can see that the dataset started off as being balanced. By balanced, I mean there are the same number of examples for each class (same number of dogs and cats). If not balanced, you either want to pass the class weights to the model, so that it can measure error appropriately, or balance your samples by trimming the larger set to be the same size as the smaller set."
   ]
  },
  {
   "cell_type": "markdown",
   "metadata": {
    "id": "lqO1C6kGGjPA"
   },
   "source": [
    "If you do not balance, the model will initially learn that the best thing to do is predict only one class, whichever is the most common. Then, it will often get stuck here. In our case though, this data is already balanced, so that's easy enough. Maybe later we'll have a dataset that isn't balanced so nicely."
   ]
  },
  {
   "cell_type": "markdown",
   "metadata": {
    "id": "Y8OR-AFpHDIH"
   },
   "source": [
    "Also, if you have a dataset that is too large to fit into your arm, you can batch-load in your data. There are many ways to do this, some outside of TensorFlow and some built in. We may discuss this further, but, for now, we're mainly trying to cover how your data should look, be shaped, and fed into the models."
   ]
  },
  {
   "cell_type": "markdown",
   "metadata": {
    "id": "vAbSMspxHkZn"
   },
   "source": [
    "Next, we want to shuffle the data. Right now our data is just all dogs, then all cats. This will usually wind up causing trouble too, as, initially, the classifier will learn to just predict dogs always. Then it will shift to oh, just predict all cats! Going back and forth like this is no good either."
   ]
  },
  {
   "cell_type": "code",
   "execution_count": null,
   "metadata": {
    "id": "_txYMs4wHByK"
   },
   "outputs": [],
   "source": []
  },
  {
   "cell_type": "markdown",
   "metadata": {
    "id": "DcJ7dwszICDm"
   },
   "source": [
    "Our `training_data` is a list, meaning it's mutable, so it's now nicely shuffled. We can confirm this by iterating over a few of the initial samples and printing out the class."
   ]
  },
  {
   "cell_type": "code",
   "execution_count": null,
   "metadata": {
    "id": "qPJxWAPYIVQx"
   },
   "outputs": [],
   "source": []
  },
  {
   "cell_type": "markdown",
   "metadata": {
    "id": "dp1JzKxcIW8N"
   },
   "source": [
    "Great, we've got the classes nicely mixed in! Time to make our model!"
   ]
  },
  {
   "cell_type": "code",
   "execution_count": null,
   "metadata": {
    "id": "wCGyIYF9Id9g"
   },
   "outputs": [],
   "source": []
  },
  {
   "cell_type": "markdown",
   "metadata": {
    "id": "z9AQWG46IgqD"
   },
   "source": [
    "Let's save this data, so that we don't need to keep calculating it every time we want to play with the neural network model."
   ]
  },
  {
   "cell_type": "code",
   "execution_count": null,
   "metadata": {
    "id": "raYbSuYxIrB6"
   },
   "outputs": [],
   "source": []
  },
  {
   "cell_type": "markdown",
   "metadata": {
    "id": "iI6xYexdIsLw"
   },
   "source": [
    "We can always load it in to our current script, or a totally new one by doing:"
   ]
  },
  {
   "cell_type": "code",
   "execution_count": null,
   "metadata": {
    "id": "Ytf8wxJ8IzvS"
   },
   "outputs": [],
   "source": []
  },
  {
   "cell_type": "markdown",
   "metadata": {
    "id": "XormSlLtI05e"
   },
   "source": [
    "Now, that we've got our dataset, we're ready to cover convolutional neural networks and implement one with our data for classification."
   ]
  },
  {
   "cell_type": "markdown",
   "metadata": {
    "id": "RNBRfuGHJAMn"
   },
   "source": [
    "That's all for today:"
   ]
  }
 ],
 "metadata": {
  "colab": {
   "collapsed_sections": [],
   "name": "day2-Loading-in-your-own-data-deep-learning-basics.ipynb",
   "provenance": []
  },
  "kernelspec": {
   "display_name": "Python 3 (ipykernel)",
   "language": "python",
   "name": "python3"
  },
  "language_info": {
   "codemirror_mode": {
    "name": "ipython",
    "version": 3
   },
   "file_extension": ".py",
   "mimetype": "text/x-python",
   "name": "python",
   "nbconvert_exporter": "python",
   "pygments_lexer": "ipython3",
   "version": "3.9.7"
  }
 },
 "nbformat": 4,
 "nbformat_minor": 1
}
